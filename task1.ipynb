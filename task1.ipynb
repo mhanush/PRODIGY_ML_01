{
  "nbformat": 4,
  "nbformat_minor": 0,
  "metadata": {
    "colab": {
      "provenance": [],
      "mount_file_id": "11oXJEp3J3qxkVExxnCjOYy2FvhLzQe-b",
      "authorship_tag": "ABX9TyPIsKFyXVoFGGjkZUa0vVXR",
      "include_colab_link": true
    },
    "kernelspec": {
      "name": "python3",
      "display_name": "Python 3"
    },
    "language_info": {
      "name": "python"
    }
  },
  "cells": [
    {
      "cell_type": "markdown",
      "metadata": {
        "id": "view-in-github",
        "colab_type": "text"
      },
      "source": [
        "<a href=\"https://colab.research.google.com/github/mhanush/PRODIGY_ML_01/blob/main/task1.ipynb\" target=\"_parent\"><img src=\"https://colab.research.google.com/assets/colab-badge.svg\" alt=\"Open In Colab\"/></a>"
      ]
    },
    {
      "cell_type": "code",
      "execution_count": 1,
      "metadata": {
        "id": "FSOkLs2eUwZv"
      },
      "outputs": [],
      "source": [
        "\n",
        "import numpy as np\n",
        "import pandas as pd\n",
        "import matplotlib.pyplot as plt\n",
        "from sklearn.model_selection import train_test_split\n",
        "from sklearn.metrics import mean_squared_error"
      ]
    },
    {
      "cell_type": "code",
      "source": [
        "!unzip -q \"/content/drive/MyDrive/house price.zip\""
      ],
      "metadata": {
        "id": "NxOZB2Q1YReC"
      },
      "execution_count": 3,
      "outputs": []
    },
    {
      "cell_type": "code",
      "source": [
        "df = pd.read_csv(\"/content/train.csv\")\n",
        "print(df.corr())\n",
        "print(df.describe())"
      ],
      "metadata": {
        "colab": {
          "base_uri": "https://localhost:8080/"
        },
        "id": "swwqZkb_W2sZ",
        "outputId": "7da6fd93-0c1e-437f-a81e-000c99898948"
      },
      "execution_count": 9,
      "outputs": [
        {
          "output_type": "stream",
          "name": "stdout",
          "text": [
            "                     Id  MSSubClass  LotFrontage   LotArea  OverallQual  \\\n",
            "Id             1.000000    0.011156    -0.010601 -0.033226    -0.028365   \n",
            "MSSubClass     0.011156    1.000000    -0.386347 -0.139781     0.032628   \n",
            "LotFrontage   -0.010601   -0.386347     1.000000  0.426095     0.251646   \n",
            "LotArea       -0.033226   -0.139781     0.426095  1.000000     0.105806   \n",
            "OverallQual   -0.028365    0.032628     0.251646  0.105806     1.000000   \n",
            "OverallCond    0.012609   -0.059316    -0.059213 -0.005636    -0.091932   \n",
            "YearBuilt     -0.012713    0.027850     0.123349  0.014228     0.572323   \n",
            "YearRemodAdd  -0.021998    0.040581     0.088866  0.013788     0.550684   \n",
            "MasVnrArea    -0.050298    0.022936     0.193458  0.104160     0.411876   \n",
            "BsmtFinSF1    -0.005024   -0.069836     0.233633  0.214103     0.239666   \n",
            "BsmtFinSF2    -0.005968   -0.065649     0.049900  0.111170    -0.059119   \n",
            "BsmtUnfSF     -0.007940   -0.140759     0.132644 -0.002618     0.308159   \n",
            "TotalBsmtSF   -0.015415   -0.238518     0.392075  0.260833     0.537808   \n",
            "1stFlrSF       0.010496   -0.251758     0.457181  0.299475     0.476224   \n",
            "2ndFlrSF       0.005590    0.307886     0.080177  0.050986     0.295493   \n",
            "LowQualFinSF  -0.044230    0.046474     0.038469  0.004779    -0.030429   \n",
            "GrLivArea      0.008273    0.074853     0.402797  0.263116     0.593007   \n",
            "BsmtFullBath   0.002289    0.003491     0.100949  0.158155     0.111098   \n",
            "BsmtHalfBath  -0.020155   -0.002333    -0.007234  0.048046    -0.040150   \n",
            "FullBath       0.005587    0.131608     0.198769  0.126031     0.550600   \n",
            "HalfBath       0.006784    0.177354     0.053532  0.014259     0.273458   \n",
            "BedroomAbvGr   0.037719   -0.023438     0.263170  0.119690     0.101676   \n",
            "KitchenAbvGr   0.002951    0.281721    -0.006069 -0.017784    -0.183882   \n",
            "TotRmsAbvGrd   0.027239    0.040380     0.352096  0.190015     0.427452   \n",
            "Fireplaces    -0.019772   -0.045569     0.266639  0.271364     0.396765   \n",
            "GarageYrBlt    0.000072    0.085072     0.070250 -0.024947     0.547766   \n",
            "GarageCars     0.016570   -0.040110     0.285691  0.154871     0.600671   \n",
            "GarageArea     0.017634   -0.098672     0.344997  0.180403     0.562022   \n",
            "WoodDeckSF    -0.029643   -0.012579     0.088521  0.171698     0.238923   \n",
            "OpenPorchSF   -0.000477   -0.006100     0.151972  0.084774     0.308819   \n",
            "EnclosedPorch  0.002889   -0.012037     0.010700 -0.018340    -0.113937   \n",
            "3SsnPorch     -0.046635   -0.043825     0.070029  0.020423     0.030371   \n",
            "ScreenPorch    0.001330   -0.026030     0.041383  0.043160     0.064886   \n",
            "PoolArea       0.057044    0.008283     0.206167  0.077672     0.065166   \n",
            "MiscVal       -0.006242   -0.007683     0.003368  0.038068    -0.031406   \n",
            "MoSold         0.021172   -0.013585     0.011200  0.001205     0.070815   \n",
            "YrSold         0.000712   -0.021407     0.007450 -0.014261    -0.027347   \n",
            "SalePrice     -0.021917   -0.084284     0.351799  0.263843     0.790982   \n",
            "\n",
            "               OverallCond  YearBuilt  YearRemodAdd  MasVnrArea  BsmtFinSF1  \\\n",
            "Id                0.012609  -0.012713     -0.021998   -0.050298   -0.005024   \n",
            "MSSubClass       -0.059316   0.027850      0.040581    0.022936   -0.069836   \n",
            "LotFrontage      -0.059213   0.123349      0.088866    0.193458    0.233633   \n",
            "LotArea          -0.005636   0.014228      0.013788    0.104160    0.214103   \n",
            "OverallQual      -0.091932   0.572323      0.550684    0.411876    0.239666   \n",
            "OverallCond       1.000000  -0.375983      0.073741   -0.128101   -0.046231   \n",
            "YearBuilt        -0.375983   1.000000      0.592855    0.315707    0.249503   \n",
            "YearRemodAdd      0.073741   0.592855      1.000000    0.179618    0.128451   \n",
            "MasVnrArea       -0.128101   0.315707      0.179618    1.000000    0.264736   \n",
            "BsmtFinSF1       -0.046231   0.249503      0.128451    0.264736    1.000000   \n",
            "BsmtFinSF2        0.040229  -0.049107     -0.067759   -0.072319   -0.050117   \n",
            "BsmtUnfSF        -0.136841   0.149040      0.181133    0.114442   -0.495251   \n",
            "TotalBsmtSF      -0.171098   0.391452      0.291066    0.363936    0.522396   \n",
            "1stFlrSF         -0.144203   0.281986      0.240379    0.344501    0.445863   \n",
            "2ndFlrSF          0.028942   0.010308      0.140024    0.174561   -0.137079   \n",
            "LowQualFinSF      0.025494  -0.183784     -0.062419   -0.069071   -0.064503   \n",
            "GrLivArea        -0.079686   0.199010      0.287389    0.390857    0.208171   \n",
            "BsmtFullBath     -0.054942   0.187599      0.119470    0.085310    0.649212   \n",
            "BsmtHalfBath      0.117821  -0.038162     -0.012337    0.026673    0.067418   \n",
            "FullBath         -0.194149   0.468271      0.439046    0.276833    0.058543   \n",
            "HalfBath         -0.060769   0.242656      0.183331    0.201444    0.004262   \n",
            "BedroomAbvGr      0.012980  -0.070651     -0.040581    0.102821   -0.107355   \n",
            "KitchenAbvGr     -0.087001  -0.174800     -0.149598   -0.037610   -0.081007   \n",
            "TotRmsAbvGrd     -0.057583   0.095589      0.191740    0.280682    0.044316   \n",
            "Fireplaces       -0.023820   0.147716      0.112581    0.249070    0.260011   \n",
            "GarageYrBlt      -0.324297   0.825667      0.642277    0.252691    0.153484   \n",
            "GarageCars       -0.185758   0.537850      0.420622    0.364204    0.224054   \n",
            "GarageArea       -0.151521   0.478954      0.371600    0.373066    0.296970   \n",
            "WoodDeckSF       -0.003334   0.224880      0.205726    0.159718    0.204306   \n",
            "OpenPorchSF      -0.032589   0.188686      0.226298    0.125703    0.111761   \n",
            "EnclosedPorch     0.070356  -0.387268     -0.193919   -0.110204   -0.102303   \n",
            "3SsnPorch         0.025504   0.031355      0.045286    0.018796    0.026451   \n",
            "ScreenPorch       0.054811  -0.050364     -0.038740    0.061466    0.062021   \n",
            "PoolArea         -0.001985   0.004950      0.005829    0.011723    0.140491   \n",
            "MiscVal           0.068777  -0.034383     -0.010286   -0.029815    0.003571   \n",
            "MoSold           -0.003511   0.012398      0.021490   -0.005965   -0.015727   \n",
            "YrSold            0.043950  -0.013618      0.035743   -0.008201    0.014359   \n",
            "SalePrice        -0.077856   0.522897      0.507101    0.477493    0.386420   \n",
            "\n",
            "               ...  WoodDeckSF  OpenPorchSF  EnclosedPorch  3SsnPorch  \\\n",
            "Id             ...   -0.029643    -0.000477       0.002889  -0.046635   \n",
            "MSSubClass     ...   -0.012579    -0.006100      -0.012037  -0.043825   \n",
            "LotFrontage    ...    0.088521     0.151972       0.010700   0.070029   \n",
            "LotArea        ...    0.171698     0.084774      -0.018340   0.020423   \n",
            "OverallQual    ...    0.238923     0.308819      -0.113937   0.030371   \n",
            "OverallCond    ...   -0.003334    -0.032589       0.070356   0.025504   \n",
            "YearBuilt      ...    0.224880     0.188686      -0.387268   0.031355   \n",
            "YearRemodAdd   ...    0.205726     0.226298      -0.193919   0.045286   \n",
            "MasVnrArea     ...    0.159718     0.125703      -0.110204   0.018796   \n",
            "BsmtFinSF1     ...    0.204306     0.111761      -0.102303   0.026451   \n",
            "BsmtFinSF2     ...    0.067898     0.003093       0.036543  -0.029993   \n",
            "BsmtUnfSF      ...   -0.005316     0.129005      -0.002538   0.020764   \n",
            "TotalBsmtSF    ...    0.232019     0.247264      -0.095478   0.037384   \n",
            "1stFlrSF       ...    0.235459     0.211671      -0.065292   0.056104   \n",
            "2ndFlrSF       ...    0.092165     0.208026       0.061989  -0.024358   \n",
            "LowQualFinSF   ...   -0.025444     0.018251       0.061081  -0.004296   \n",
            "GrLivArea      ...    0.247433     0.330224       0.009113   0.020643   \n",
            "BsmtFullBath   ...    0.175315     0.067341      -0.049911  -0.000106   \n",
            "BsmtHalfBath   ...    0.040161    -0.025324      -0.008555   0.035114   \n",
            "FullBath       ...    0.187703     0.259977      -0.115093   0.035353   \n",
            "HalfBath       ...    0.108080     0.199740      -0.095317  -0.004972   \n",
            "BedroomAbvGr   ...    0.046854     0.093810       0.041570  -0.024478   \n",
            "KitchenAbvGr   ...   -0.090130    -0.070091       0.037312  -0.024600   \n",
            "TotRmsAbvGrd   ...    0.165984     0.234192       0.004151  -0.006683   \n",
            "Fireplaces     ...    0.200019     0.169405      -0.024822   0.011257   \n",
            "GarageYrBlt    ...    0.224577     0.228425      -0.297003   0.023544   \n",
            "GarageCars     ...    0.226342     0.213569      -0.151434   0.035765   \n",
            "GarageArea     ...    0.224666     0.241435      -0.121777   0.035087   \n",
            "WoodDeckSF     ...    1.000000     0.058661      -0.125989  -0.032771   \n",
            "OpenPorchSF    ...    0.058661     1.000000      -0.093079  -0.005842   \n",
            "EnclosedPorch  ...   -0.125989    -0.093079       1.000000  -0.037305   \n",
            "3SsnPorch      ...   -0.032771    -0.005842      -0.037305   1.000000   \n",
            "ScreenPorch    ...   -0.074181     0.074304      -0.082864  -0.031436   \n",
            "PoolArea       ...    0.073378     0.060762       0.054203  -0.007992   \n",
            "MiscVal        ...   -0.009551    -0.018584       0.018361   0.000354   \n",
            "MoSold         ...    0.021011     0.071255      -0.028887   0.029474   \n",
            "YrSold         ...    0.022270    -0.057619      -0.009916   0.018645   \n",
            "SalePrice      ...    0.324413     0.315856      -0.128578   0.044584   \n",
            "\n",
            "               ScreenPorch  PoolArea   MiscVal    MoSold    YrSold  SalePrice  \n",
            "Id                0.001330  0.057044 -0.006242  0.021172  0.000712  -0.021917  \n",
            "MSSubClass       -0.026030  0.008283 -0.007683 -0.013585 -0.021407  -0.084284  \n",
            "LotFrontage       0.041383  0.206167  0.003368  0.011200  0.007450   0.351799  \n",
            "LotArea           0.043160  0.077672  0.038068  0.001205 -0.014261   0.263843  \n",
            "OverallQual       0.064886  0.065166 -0.031406  0.070815 -0.027347   0.790982  \n",
            "OverallCond       0.054811 -0.001985  0.068777 -0.003511  0.043950  -0.077856  \n",
            "YearBuilt        -0.050364  0.004950 -0.034383  0.012398 -0.013618   0.522897  \n",
            "YearRemodAdd     -0.038740  0.005829 -0.010286  0.021490  0.035743   0.507101  \n",
            "MasVnrArea        0.061466  0.011723 -0.029815 -0.005965 -0.008201   0.477493  \n",
            "BsmtFinSF1        0.062021  0.140491  0.003571 -0.015727  0.014359   0.386420  \n",
            "BsmtFinSF2        0.088871  0.041709  0.004940 -0.015211  0.031706  -0.011378  \n",
            "BsmtUnfSF        -0.012579 -0.035092 -0.023837  0.034888 -0.041258   0.214479  \n",
            "TotalBsmtSF       0.084489  0.126053 -0.018479  0.013196 -0.014969   0.613581  \n",
            "1stFlrSF          0.088758  0.131525 -0.021096  0.031372 -0.013604   0.605852  \n",
            "2ndFlrSF          0.040606  0.081487  0.016197  0.035164 -0.028700   0.319334  \n",
            "LowQualFinSF      0.026799  0.062157 -0.003793 -0.022174 -0.028921  -0.025606  \n",
            "GrLivArea         0.101510  0.170205 -0.002416  0.050240 -0.036526   0.708624  \n",
            "BsmtFullBath      0.023148  0.067616 -0.023047 -0.025361  0.067049   0.227122  \n",
            "BsmtHalfBath      0.032121  0.020025 -0.007367  0.032873 -0.046524  -0.016844  \n",
            "FullBath         -0.008106  0.049604 -0.014290  0.055872 -0.019669   0.560664  \n",
            "HalfBath          0.072426  0.022381  0.001290 -0.009050 -0.010269   0.284108  \n",
            "BedroomAbvGr      0.044300  0.070703  0.007767  0.046544 -0.036014   0.168213  \n",
            "KitchenAbvGr     -0.051613 -0.014525  0.062341  0.026589  0.031687  -0.135907  \n",
            "TotRmsAbvGrd      0.059383  0.083757  0.024763  0.036907 -0.034516   0.533723  \n",
            "Fireplaces        0.184530  0.095074  0.001409  0.046357 -0.024096   0.466929  \n",
            "GarageYrBlt      -0.075418 -0.014501 -0.032417  0.005337 -0.001014   0.486362  \n",
            "GarageCars        0.050494  0.020934 -0.043080  0.040522 -0.039117   0.640409  \n",
            "GarageArea        0.051412  0.061047 -0.027400  0.027974 -0.027378   0.623431  \n",
            "WoodDeckSF       -0.074181  0.073378 -0.009551  0.021011  0.022270   0.324413  \n",
            "OpenPorchSF       0.074304  0.060762 -0.018584  0.071255 -0.057619   0.315856  \n",
            "EnclosedPorch    -0.082864  0.054203  0.018361 -0.028887 -0.009916  -0.128578  \n",
            "3SsnPorch        -0.031436 -0.007992  0.000354  0.029474  0.018645   0.044584  \n",
            "ScreenPorch       1.000000  0.051307  0.031946  0.023217  0.010694   0.111447  \n",
            "PoolArea          0.051307  1.000000  0.029669 -0.033737 -0.059689   0.092404  \n",
            "MiscVal           0.031946  0.029669  1.000000 -0.006495  0.004906  -0.021190  \n",
            "MoSold            0.023217 -0.033737 -0.006495  1.000000 -0.145721   0.046432  \n",
            "YrSold            0.010694 -0.059689  0.004906 -0.145721  1.000000  -0.028923  \n",
            "SalePrice         0.111447  0.092404 -0.021190  0.046432 -0.028923   1.000000  \n",
            "\n",
            "[38 rows x 38 columns]\n",
            "                Id   MSSubClass  LotFrontage        LotArea  OverallQual  \\\n",
            "count  1460.000000  1460.000000  1201.000000    1460.000000  1460.000000   \n",
            "mean    730.500000    56.897260    70.049958   10516.828082     6.099315   \n",
            "std     421.610009    42.300571    24.284752    9981.264932     1.382997   \n",
            "min       1.000000    20.000000    21.000000    1300.000000     1.000000   \n",
            "25%     365.750000    20.000000    59.000000    7553.500000     5.000000   \n",
            "50%     730.500000    50.000000    69.000000    9478.500000     6.000000   \n",
            "75%    1095.250000    70.000000    80.000000   11601.500000     7.000000   \n",
            "max    1460.000000   190.000000   313.000000  215245.000000    10.000000   \n",
            "\n",
            "       OverallCond    YearBuilt  YearRemodAdd   MasVnrArea   BsmtFinSF1  ...  \\\n",
            "count  1460.000000  1460.000000   1460.000000  1452.000000  1460.000000  ...   \n",
            "mean      5.575342  1971.267808   1984.865753   103.685262   443.639726  ...   \n",
            "std       1.112799    30.202904     20.645407   181.066207   456.098091  ...   \n",
            "min       1.000000  1872.000000   1950.000000     0.000000     0.000000  ...   \n",
            "25%       5.000000  1954.000000   1967.000000     0.000000     0.000000  ...   \n",
            "50%       5.000000  1973.000000   1994.000000     0.000000   383.500000  ...   \n",
            "75%       6.000000  2000.000000   2004.000000   166.000000   712.250000  ...   \n",
            "max       9.000000  2010.000000   2010.000000  1600.000000  5644.000000  ...   \n",
            "\n",
            "        WoodDeckSF  OpenPorchSF  EnclosedPorch    3SsnPorch  ScreenPorch  \\\n",
            "count  1460.000000  1460.000000    1460.000000  1460.000000  1460.000000   \n",
            "mean     94.244521    46.660274      21.954110     3.409589    15.060959   \n",
            "std     125.338794    66.256028      61.119149    29.317331    55.757415   \n",
            "min       0.000000     0.000000       0.000000     0.000000     0.000000   \n",
            "25%       0.000000     0.000000       0.000000     0.000000     0.000000   \n",
            "50%       0.000000    25.000000       0.000000     0.000000     0.000000   \n",
            "75%     168.000000    68.000000       0.000000     0.000000     0.000000   \n",
            "max     857.000000   547.000000     552.000000   508.000000   480.000000   \n",
            "\n",
            "          PoolArea       MiscVal       MoSold       YrSold      SalePrice  \n",
            "count  1460.000000   1460.000000  1460.000000  1460.000000    1460.000000  \n",
            "mean      2.758904     43.489041     6.321918  2007.815753  180921.195890  \n",
            "std      40.177307    496.123024     2.703626     1.328095   79442.502883  \n",
            "min       0.000000      0.000000     1.000000  2006.000000   34900.000000  \n",
            "25%       0.000000      0.000000     5.000000  2007.000000  129975.000000  \n",
            "50%       0.000000      0.000000     6.000000  2008.000000  163000.000000  \n",
            "75%       0.000000      0.000000     8.000000  2009.000000  214000.000000  \n",
            "max     738.000000  15500.000000    12.000000  2010.000000  755000.000000  \n",
            "\n",
            "[8 rows x 38 columns]\n"
          ]
        },
        {
          "output_type": "stream",
          "name": "stderr",
          "text": [
            "<ipython-input-9-6d9e599c4353>:2: FutureWarning: The default value of numeric_only in DataFrame.corr is deprecated. In a future version, it will default to False. Select only valid columns or specify the value of numeric_only to silence this warning.\n",
            "  print(df.corr())\n"
          ]
        }
      ]
    },
    {
      "cell_type": "code",
      "source": [
        "plt.scatter(df[\"BedroomAbvGr\"],df[\"SalePrice\"])"
      ],
      "metadata": {
        "colab": {
          "base_uri": "https://localhost:8080/",
          "height": 447
        },
        "id": "Atvdt9fvY2Fi",
        "outputId": "6561db2a-6df4-4359-9223-f21217d6c302"
      },
      "execution_count": 12,
      "outputs": [
        {
          "output_type": "execute_result",
          "data": {
            "text/plain": [
              "<matplotlib.collections.PathCollection at 0x7e067e0c1540>"
            ]
          },
          "metadata": {},
          "execution_count": 12
        },
        {
          "output_type": "display_data",
          "data": {
            "text/plain": [
              "<Figure size 640x480 with 1 Axes>"
            ],
            "image/png": "[encoded data removed]"
          },
          "metadata": {}
        }
      ]
    },
    {
      "cell_type": "code",
      "source": [
        "df[\"Bathroom\"]=df[\"FullBath\"]+df[\"HalfBath\"]\n",
        "plt.scatter(df[\"Bathroom\"],df[\"SalePrice\"])"
      ],
      "metadata": {
        "colab": {
          "base_uri": "https://localhost:8080/",
          "height": 447
        },
        "id": "iQV1QlPaaYvp",
        "outputId": "c1ef452c-5081-491c-f1ac-1c8dd918059a"
      },
      "execution_count": 14,
      "outputs": [
        {
          "output_type": "execute_result",
          "data": {
            "text/plain": [
              "<matplotlib.collections.PathCollection at 0x7e067b204a30>"
            ]
          },
          "metadata": {},
          "execution_count": 14
        },
        {
          "output_type": "display_data",
          "data": {
            "text/plain": [
              "<Figure size 640x480 with 1 Axes>"
            ],
            "image/png": "[encoded data removed]"
          },
          "metadata": {}
        }
      ]
    },
    {
      "cell_type": "code",
      "source": [
        "plt.scatter(df[\"LotArea\"],df[\"SalePrice\"])"
      ],
      "metadata": {
        "colab": {
          "base_uri": "https://localhost:8080/",
          "height": 447
        },
        "id": "IK86ehGcdPHu",
        "outputId": "03e05f12-0932-490c-d1f9-44f3cd568d5e"
      },
      "execution_count": 15,
      "outputs": [
        {
          "output_type": "execute_result",
          "data": {
            "text/plain": [
              "<matplotlib.collections.PathCollection at 0x7e067b094d60>"
            ]
          },
          "metadata": {},
          "execution_count": 15
        },
        {
          "output_type": "display_data",
          "data": {
            "text/plain": [
              "<Figure size 640x480 with 1 Axes>"
            ],
            "image/png": "[encoded data removed]"
          },
          "metadata": {}
        }
      ]
    },
    {
      "cell_type": "code",
      "source": [
        "def getfeature(dataobj):\n",
        "  return [dataobj.min(),dataobj.max()]\n",
        "bath_range = getfeature(df[\"Bathroom\"])\n",
        "bed_range = getfeature(df[\"BedroomAbvGr\"])\n",
        "area_range = getfeature(df[\"LotArea\"])"
      ],
      "metadata": {
        "id": "2psY3lShdlC7"
      },
      "execution_count": 16,
      "outputs": []
    },
    {
      "cell_type": "code",
      "source": [
        "def normalize(dataobj,lower,upper):\n",
        "  data_normalized = (dataobj - dataobj.min()) / (dataobj.max() - dataobj.min()) * (upper - lower) + lower\n",
        "  return data_normalized\n",
        "def normalize_input(x,l1,u1,l2,u2):\n",
        "  val = (x-l1)/(u1-l1)*(u2-l2)+l2\n",
        "  return val\n",
        "df[\"Price\"] = normalize(df[\"SalePrice\"],1,10)\n",
        "df[\"Area\"] = normalize(df[\"LotArea\"],1,10)"
      ],
      "metadata": {
        "id": "addjeQX8d8hw"
      },
      "execution_count": 17,
      "outputs": []
    },
    {
      "cell_type": "code",
      "source": [
        "x = df[[\"BedroomAbvGr\",\"Bathroom\",\"Area\"]]\n",
        "y = df[\"Price\"]\n",
        "X_train, X_test, y_train, y_test = train_test_split(x, y, test_size=0.2, random_state=42)\n",
        "print(X_train.shape,X_test.shape)"
      ],
      "metadata": {
        "colab": {
          "base_uri": "https://localhost:8080/"
        },
        "id": "F7RZfL3aeFom",
        "outputId": "0eb25dbc-5446-4311-921e-4cd36a793ce6"
      },
      "execution_count": 18,
      "outputs": [
        {
          "output_type": "stream",
          "name": "stdout",
          "text": [
            "(1168, 3) (292, 3)\n"
          ]
        }
      ]
    },
    {
      "cell_type": "code",
      "source": [
        "class ML_model:\n",
        "  def __init__(self,learn,epoch):\n",
        "    self.learn_rate = learn\n",
        "    self.epochs = epoch\n",
        "    self.tolerance = 1e-6\n",
        "    self.intercept = 0\n",
        "    self.weights = None\n",
        "\n",
        "  def fit(self,x,y):\n",
        "    x = np.column_stack((np.ones(len(x)),x))\n",
        "    self.weights = np.random.randn(x.shape[1])\n",
        "\n",
        "    perror = np.inf\n",
        "    for _ in range(self.epochs):\n",
        "      pred = np.dot(x,self.weights)\n",
        "      error = y - pred\n",
        "\n",
        "      self.weights += self.learn_rate * np.dot(x.T, error)/ len(x)\n",
        "      self.intercept += self.learn_rate * np.mean(error)\n",
        "\n",
        "      cerror = np.mean(error**2)\n",
        "      if abs(cerror - perror) > self.tolerance:\n",
        "        perror = cerror\n",
        "\n",
        "  def predict(self,x):\n",
        "      x = np.column_stack((np.ones(len(x)),x))\n",
        "      return np.dot(x,self.weights)"
      ],
      "metadata": {
        "id": "pQ2m0qp3ePgh"
      },
      "execution_count": 19,
      "outputs": []
    },
    {
      "cell_type": "code",
      "source": [
        "model = ML_model(0.1,5000)\n",
        "X_train = np.array(X_train)\n",
        "y_train = np.array(y_train)\n",
        "model.fit(X_train, y_train)"
      ],
      "metadata": {
        "id": "LK4_HdoeeVM4"
      },
      "execution_count": 20,
      "outputs": []
    },
    {
      "cell_type": "code",
      "source": [
        "y_pred = model.predict(X_test[:5])\n",
        "print(\"Actual values:\",y_test[:5],\"\\n\")\n",
        "print(\"Predictions:\", y_pred)\n",
        "print(\"Final weights:\", model.weights)\n",
        "print(\"Intercept:\", model.intercept)\n",
        "print(\"Mean Squared Error:\",mean_squared_error(y_pred,y_test[:5]))"
      ],
      "metadata": {
        "colab": {
          "base_uri": "https://localhost:8080/"
        },
        "id": "vBSP5WhgeaPz",
        "outputId": "b7b8b60b-8fab-463d-e959-8db4bd761632"
      },
      "execution_count": 21,
      "outputs": [
        {
          "output_type": "stream",
          "name": "stdout",
          "text": [
            "Actual values: 892     2.494792\n",
            "1105    4.625746\n",
            "413     2.001111\n",
            "522     2.551035\n",
            "1036    4.507013\n",
            "Name: Price, dtype: float64 \n",
            "\n",
            "Predictions: [2.10177362 3.58235198 2.2153881  2.73609071 2.99574208]\n",
            "Final weights: [ 1.09445003 -0.10276898  0.70213128  0.47218989]\n",
            "Intercept: 2.2323609586546\n",
            "Mean Squared Error: 0.7214471483671696\n"
          ]
        }
      ]
    },
    {
      "cell_type": "code",
      "source": [
        "val = {\"Bedrooms\":10,\"Bathrooms\":5,\"Area\":12.417}\n",
        "new_value = pd.DataFrame([val])\n",
        "print(model.predict(new_value))\n"
      ],
      "metadata": {
        "colab": {
          "base_uri": "https://localhost:8080/"
        },
        "id": "ailISMRGehNY",
        "outputId": "da269931-1415-42be-dc4d-4dd94149cb76"
      },
      "execution_count": 22,
      "outputs": [
        {
          "output_type": "stream",
          "name": "stdout",
          "text": [
            "[9.44059853]\n"
          ]
        }
      ]
    }
  ]
}